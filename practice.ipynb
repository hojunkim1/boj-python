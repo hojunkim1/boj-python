{
 "cells": [
  {
   "cell_type": "code",
   "execution_count": 2,
   "metadata": {
    "collapsed": true
   },
   "outputs": [
    {
     "name": "stdout",
     "output_type": "stream",
     "text": [
      "[2, 2, 1, 7, 2]\n",
      "[6, 8, 3]\n"
     ]
    }
   ],
   "source": [
    "order = int(input())\n",
    "m, n = map(int, input().split())\n",
    "\n",
    "pizza_a = []\n",
    "pizza_b = []\n",
    "\n",
    "for i in range(m):\n",
    "    pizza_a.append(int(input()))\n",
    "for i in range(n):\n",
    "    pizza_b.append(int(input()))\n",
    "\n",
    "print(pizza_a)\n",
    "print(pizza_b)"
   ]
  },
  {
   "cell_type": "code",
   "execution_count": null,
   "outputs": [],
   "source": [],
   "metadata": {
    "collapsed": false,
    "pycharm": {
     "is_executing": true
    }
   }
  }
 ],
 "metadata": {
  "kernelspec": {
   "display_name": "Python 3",
   "language": "python",
   "name": "python3"
  },
  "language_info": {
   "codemirror_mode": {
    "name": "ipython",
    "version": 2
   },
   "file_extension": ".py",
   "mimetype": "text/x-python",
   "name": "python",
   "nbconvert_exporter": "python",
   "pygments_lexer": "ipython2",
   "version": "2.7.6"
  }
 },
 "nbformat": 4,
 "nbformat_minor": 0
}
